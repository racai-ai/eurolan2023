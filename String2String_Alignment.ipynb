{
  "nbformat": 4,
  "nbformat_minor": 0,
  "metadata": {
    "colab": {
      "provenance": []
    },
    "kernelspec": {
      "name": "python3",
      "display_name": "Python 3"
    },
    "language_info": {
      "name": "python"
    }
  },
  "cells": [
    {
      "cell_type": "markdown",
      "source": [
        "# Instalare biblioteca String2String\n",
        "\n",
        "GitHub: https://github.com/stanfordnlp/string2string/tree/main\n",
        "\n",
        "Tutorial: https://ealizadeh.com/blog/tutorial-string2string/"
      ],
      "metadata": {
        "id": "AF7ZK_VkRGEu"
      }
    },
    {
      "cell_type": "code",
      "execution_count": null,
      "metadata": {
        "id": "mjhPxzrtEWwB"
      },
      "outputs": [],
      "source": [
        "!pip install string2string"
      ]
    },
    {
      "cell_type": "markdown",
      "source": [
        "# Aliniere tokeni"
      ],
      "metadata": {
        "id": "e9cSpAqlFAgK"
      }
    },
    {
      "cell_type": "code",
      "source": [
        "from string2string.alignment import NeedlemanWunsch\n",
        "\n",
        "nw = NeedlemanWunsch() # gap_char='\\t'\n",
        "\n",
        "s1 = [\"Russel\", \"Peters\", \"is\", \"a\", \"comedian\", \".\"]\n",
        "s2 = [\"Russel\", \"J.\", \"M.\", \"Peters\", \"is\", \"a\", \"comedian\", \".\"]\n",
        "\n",
        "aligned_s1, aligned_s2, score_matrix = nw.get_alignment(s1, s2, return_score_matrix=True)"
      ],
      "metadata": {
        "id": "viOv1IvrFF1j"
      },
      "execution_count": null,
      "outputs": []
    },
    {
      "cell_type": "code",
      "source": [
        "print(aligned_s1)\n",
        "print(aligned_s2)"
      ],
      "metadata": {
        "id": "IcUE9Bf7FoSY"
      },
      "execution_count": null,
      "outputs": []
    },
    {
      "cell_type": "code",
      "source": [
        "s1 = [\"Russel\", \"Peters\", \"is\", \"a\", \"comedian\", \".\"]\n",
        "s2 = [\"Russel\", \"#Peters\", \"is\", \"a\", \"comedian\", \".\"]\n",
        "\n",
        "aligned_s1, aligned_s2, score_matrix = nw.get_alignment(s1, s2, return_score_matrix=True)\n",
        "print(aligned_s1)\n",
        "print(aligned_s2)"
      ],
      "metadata": {
        "id": "UoQC8k7bGGeR"
      },
      "execution_count": null,
      "outputs": []
    },
    {
      "cell_type": "code",
      "source": [
        "s1 = [\"Russel\", \"Peters\", \"is\", \"a\", \"comedian\", \".\"]\n",
        "s2 = [\"Russel\", \"Crowe\", \"is\", \"a\", \"comedian\", \".\"]\n",
        "\n",
        "aligned_s1, aligned_s2, score_matrix = nw.get_alignment(s1, s2, return_score_matrix=True)\n",
        "print(aligned_s1)\n",
        "print(aligned_s2)"
      ],
      "metadata": {
        "id": "PRCVJQ58GQz5"
      },
      "execution_count": null,
      "outputs": []
    },
    {
      "cell_type": "code",
      "source": [
        "s1 = [\"Russel\", \"J.\", \"M.\", \"Peters\", \"is\", \"a\", \"comedian\", \".\"]\n",
        "s2 = [\"Russel\", \"Crowe\", \"is\", \"a\", \"comedian\", \".\"]\n",
        "\n",
        "aligned_s1, aligned_s2, score_matrix = nw.get_alignment(s1, s2, return_score_matrix=True)\n",
        "print(aligned_s1)\n",
        "print(aligned_s2)"
      ],
      "metadata": {
        "id": "1BRu0lreGcHq"
      },
      "execution_count": null,
      "outputs": []
    },
    {
      "cell_type": "code",
      "source": [
        "s1 = [\"I\", \"-\", \"am\", \"spus\", \"ceva\", \".\"]\n",
        "s2 = [\"I\", \"-\", \"am\", \"spus\", \"ceva\", \"ieri\", \".\"]\n",
        "\n",
        "aligned_s1, aligned_s2, score_matrix = nw.get_alignment(s1, s2, return_score_matrix=True)\n",
        "print(aligned_s1)\n",
        "print(aligned_s2)"
      ],
      "metadata": {
        "id": "7_Y35ZVBHRoB"
      },
      "execution_count": null,
      "outputs": []
    },
    {
      "cell_type": "code",
      "source": [
        "aligned_path, aligned_s1_parts, aligned_s2_parts = nw.get_alignment_strings_and_indices(aligned_s1, aligned_s2)\n",
        "print(aligned_path)\n",
        "print(aligned_s1_parts)\n",
        "print(aligned_s2_parts)"
      ],
      "metadata": {
        "id": "CgnwCEXVIlJQ"
      },
      "execution_count": null,
      "outputs": []
    },
    {
      "cell_type": "code",
      "source": [
        "from string2string.misc.plotting_functions import plot_pairwise_alignment\n",
        "plot_pairwise_alignment(\n",
        "    seq1_pieces=aligned_s1_parts,\n",
        "    seq2_pieces=aligned_s2_parts,\n",
        "    alignment=aligned_path,\n",
        "    title=\"\",\n",
        "    seq1_name=\"Sequence 1\",\n",
        "    seq2_name=\"Sequence 2\",\n",
        ")"
      ],
      "metadata": {
        "id": "3w75P5cQJ_xq"
      },
      "execution_count": null,
      "outputs": []
    },
    {
      "cell_type": "markdown",
      "source": [
        "# Aliniere cu tag-uri NER"
      ],
      "metadata": {
        "id": "T9KP34euG08I"
      }
    },
    {
      "cell_type": "code",
      "source": [
        "s1 = [ \"Russel\", \"Peters\", \"is\", \"a\", \"comedian\", \".\"]\n",
        "l1 = [ \"PER\",    \"PER\",    \"O\",  \"O\", \"O\",        \"O\"]\n",
        "\n",
        "s2 = [\"Russel\", \"J.\", \"M.\", \"Peters\", \"is\", \"a\", \"comedian\", \".\"]"
      ],
      "metadata": {
        "id": "3A3wQkccRbtA"
      },
      "execution_count": null,
      "outputs": []
    },
    {
      "cell_type": "code",
      "source": [
        "# s1 = Secventa tokeni de intrare\n",
        "# l1 = Secventa tag-uri NER asociate secventei s1\n",
        "# s2 = Secventa tokeni pentru care dorim asociere tag-uri NER\n",
        "def align(s1,l1,s2):\n",
        "  nw = NeedlemanWunsch(gap_char='\\t')\n",
        "\n",
        "  aligned_s1, aligned_s2 = nw.get_alignment(s1, s2, return_score_matrix=False)\n",
        "  aligned_path, aligned_s1_parts, aligned_s2_parts = nw.get_alignment_strings_and_indices(aligned_s1, aligned_s2)\n",
        "\n",
        "  l2 = []\n",
        "\n",
        "  current_tag_pos = -1\n",
        "  current_tag = l1[0]\n",
        "\n",
        "  #print(list(zip(aligned_s1_parts,aligned_s2_parts)))\n",
        "\n",
        "  for (a,b) in zip(aligned_s1_parts,aligned_s2_parts):\n",
        "    if b=='\\t ':\n",
        "      current_tag_pos += 1\n",
        "      current_tag = l1[current_tag_pos]\n",
        "      continue\n",
        "\n",
        "    if a=='\\t ':\n",
        "      l2.append(current_tag)\n",
        "    else:\n",
        "      current_tag_pos += 1\n",
        "      current_tag = l1[current_tag_pos]\n",
        "      l2.append(current_tag)\n",
        "\n",
        "  return l2\n"
      ],
      "metadata": {
        "id": "bxmvhGVzG3MZ"
      },
      "execution_count": null,
      "outputs": []
    },
    {
      "cell_type": "code",
      "source": [
        "l2 = align(s1,l1,s2)\n",
        "print(s2)\n",
        "print(l2)"
      ],
      "metadata": {
        "id": "wx_vRtfPRwcm"
      },
      "execution_count": null,
      "outputs": []
    },
    {
      "cell_type": "code",
      "source": [
        "s1 = [\"Russel\", \"J.\", \"M.\", \"Peters\", \"is\", \"a\", \"comedian\", \".\"]\n",
        "l1 = ['PER', 'PER', 'PER', 'PER', 'O', 'O', 'O', 'O']\n",
        "s2 = [\"Russel\", \"Crowe\", \"is\", \"a\", \"comedian\", \".\"]\n",
        "l2 = align(s1,l1,s2)\n",
        "print(s2)\n",
        "print(l2)"
      ],
      "metadata": {
        "id": "4w3K8lfARz4v"
      },
      "execution_count": null,
      "outputs": []
    }
  ]
}